{
  "nbformat": 4,
  "nbformat_minor": 0,
  "metadata": {
    "colab": {
      "provenance": [],
      "authorship_tag": "ABX9TyOmqOM4P2y7pc1/aunv7td5",
      "include_colab_link": true
    },
    "kernelspec": {
      "name": "python3",
      "display_name": "Python 3"
    },
    "language_info": {
      "name": "python"
    }
  },
  "cells": [
    {
      "cell_type": "markdown",
      "metadata": {
        "id": "view-in-github",
        "colab_type": "text"
      },
      "source": [
        "<a href=\"https://colab.research.google.com/github/ParitoshP702/BO_vs_RL_Pricing/blob/main/Action_Space_exploration.ipynb\" target=\"_parent\"><img src=\"https://colab.research.google.com/assets/colab-badge.svg\" alt=\"Open In Colab\"/></a>"
      ]
    },
    {
      "cell_type": "code",
      "execution_count": null,
      "metadata": {
        "id": "qpr2UA1XT0Hn"
      },
      "outputs": [],
      "source": [
        "import numpy as np\n",
        "import random\n",
        "from tqdm import tqdm\n",
        "import torch"
      ]
    },
    {
      "cell_type": "code",
      "source": [
        "# true_coeff = np.array([-150,480,-165,22,-1])"
      ],
      "metadata": {
        "id": "m6oZcKcYT6GQ"
      },
      "execution_count": null,
      "outputs": []
    },
    {
      "cell_type": "code",
      "source": [
        "from scipy.optimize import minimize"
      ],
      "metadata": {
        "id": "gnR9yjfiT9bp"
      },
      "execution_count": null,
      "outputs": []
    },
    {
      "cell_type": "code",
      "source": [
        "def ActionSpace():\n",
        "    epsilon_array = []\n",
        "    epsilon_array2 = []\n",
        "    epsilon_array3 = []\n",
        "    mu_ = np.random.uniform(size = 2)\n",
        "    sigma_ = np.random.uniform(size= 2)\n",
        "    mu2 = np.random.uniform(size = 2)\n",
        "    sigma2 = np.random.uniform(size = 2)\n",
        "    mu3 = np.random.uniform(size = 2)\n",
        "    sigma3 = np.random.uniform(size = 2)\n",
        "    def p_vector(p):\n",
        "        p_arr = np.array([p,p**2])\n",
        "        return p_arr\n",
        "\n",
        "    def g_fun(p,*args):\n",
        "        p_vec = np.array([p,p**2])\n",
        "        coeff_array = args\n",
        "        return -np.sum(coeff_array*p_vec)\n",
        "    w = mu_\n",
        "    w2 = mu2\n",
        "    w3 = mu3\n",
        "    pl = 0\n",
        "    ph = 100\n",
        "    price_estimate = minimize(g_fun,x0 = np.array([random.random()]),args = (w),bounds = [(pl,ph)])[\"x\"][0]\n",
        "    price_estimate2 = minimize(g_fun,x0 = np.array([random.random()]),args = (w2),bounds = [(pl,ph)])[\"x\"][0]\n",
        "    price_estimate3 = minimize(g_fun,x0 = np.array([random.random()]),args = (w3),bounds = [(pl,ph)])[\"x\"][0]\n",
        "    # price_estimate_arr = np.array([price_estimate,price_estimate2,price_estimate3])\n",
        "    p_array = []\n",
        "    reven_array_true = []\n",
        "    p_array2 = []\n",
        "    reven_array2 = []\n",
        "    p_array3 = []\n",
        "    reven_array3 = []\n",
        "    p_curr = p_vector(price_estimate)\n",
        "    p_array.append(price_estimate)\n",
        "    p_curr2 = p_vector(price_estimate2)\n",
        "    p_array2.append(price_estimate2)\n",
        "    p_curr3 = p_vector(price_estimate3)\n",
        "    p_array3.append(price_estimate3)\n",
        "    alpha = 0.05\n",
        "    # print(p_array)\n",
        "    for t in tqdm(range(1,101)):\n",
        "        rev_curr = 100*np.exp(-((price_estimate-5)**2)/20)+np.random.normal(0,3)\n",
        "    #     rev_curr_predict = (w.reshape(1,5)@p_curr)[0][0]\n",
        "    #     print(rev_curr)\n",
        "        reven_array_true.append(rev_curr)\n",
        "    #     reven_array_predicted.append(rev_curr_predict\n",
        "        # sigma_ = sigma_*np.random.normal(0,1)\n",
        "        mu = torch.tensor(mu_.reshape(len(mu_),1),requires_grad = True)\n",
        "        # sigma = torch.tensor(sigma_.reshape(len(sigma_),1),requires_grad = True)\n",
        "        sum = torch.tensor([0])\n",
        "        # print(p_array)\n",
        "        # print(f\"we are in time: {t}\")\n",
        "        for i in range(len(p_array)):\n",
        "            p_vec = p_vector(p_array[i])\n",
        "            # print(p_vec)\n",
        "            p_vec = p_vec.reshape(len(p_vec),1)\n",
        "            # print(p_vec)\n",
        "            p_vec = torch.tensor(p_vec)\n",
        "            revenue = reven_array_true[i]\n",
        "            sum =sum + ((torch.transpose(mu,0,1)@p_vec - torch.tensor([[revenue]]))**2)/t\n",
        "        # print(sum.size())\n",
        "        external_grad = torch.tensor([[1]])\n",
        "        sum.backward(gradient = external_grad)\n",
        "        mu_ = (mu- alpha*mu.grad).detach().numpy()\n",
        "        # sigma_ = (sigma - alpha*sigma.grad).detach().numpy()\n",
        "        w = mu_\n",
        "    #     print(w)\n",
        "        price_estimate = minimize(g_fun,x0 = np.array([random.random()]),args = (w),bounds = [(pl,ph)])[\"x\"][0]\n",
        "        epsi = np.exp(-(t-1))\n",
        "        unif = np.random.uniform(size = 1)\n",
        "        if unif < epsi:\n",
        "          price_estimate = np.random.uniform(low = pl,high = ph,size  = 1)[0]\n",
        "        p_array.append(price_estimate)\n",
        "        p_curr = p_vector(price_estimate)\n",
        "        # print(p_curr)\n",
        "        epsilon = np.max([0,np.min(100 - np.array(reven_array_true))])\n",
        "        epsilon_array.append(epsilon)\n",
        "\n",
        "\n",
        "\n",
        "\n",
        "\n",
        "    # for second starting point\n",
        "    for t in tqdm(range(1,101)):\n",
        "        rev_curr2 = 100*np.exp(-((price_estimate2-5)**2)/20)+np.random.normal(0,3)\n",
        "    #     rev_curr_predict = (w.reshape(1,5)@p_curr)[0][0]\n",
        "    #     print(rev_curr)\n",
        "        reven_array2.append(rev_curr2)\n",
        "    #     reven_array_predicted.append(rev_curr_predict\n",
        "        # sigma2 = sigma2*np.random.normal(0,1)\n",
        "        mu = torch.tensor(mu2.reshape(len(mu2),1),requires_grad = True)\n",
        "        # sigma = torch.tensor(sigma2.reshape(len(sigma2),1),requires_grad = True)\n",
        "        sum = torch.tensor([0])\n",
        "        for i in range(len(p_array2)):\n",
        "            p_vec = p_vector(p_array2[i])\n",
        "            p_vec = p_vec.reshape(len(p_vec),1)\n",
        "            p_vec = torch.tensor(p_vec)\n",
        "            revenue = reven_array2[i]\n",
        "            sum =sum + ((torch.transpose(mu,0,1)@p_vec - torch.tensor([[revenue]]))**2)/t\n",
        "        # print(sum.size())\n",
        "        external_grad = torch.tensor([[1]])\n",
        "        sum.backward(gradient = external_grad)\n",
        "        mu2 = (mu- alpha*mu.grad).detach().numpy()\n",
        "        # sigma2 = (sigma - alpha*sigma.grad).detach().numpy()\n",
        "        w2 = mu2\n",
        "    #     print(w)\n",
        "        price_estimate2 = minimize(g_fun,x0 = np.array([random.random()]),args = (w2),bounds = [(pl,ph)])[\"x\"][0]\n",
        "        epsi = np.exp(-(t-1))\n",
        "        unif = np.random.uniform(size = 1)\n",
        "        if unif < epsi:\n",
        "          price_estimate2 = np.random.uniform(low = pl,high = ph,size  = 1)[0]\n",
        "        p_array2.append(price_estimate2)\n",
        "        p_curr2 = p_vector(price_estimate2)\n",
        "        # print(p_curr)\n",
        "        epsilon = np.max([0,np.min(100 - np.array(reven_array2))])\n",
        "        epsilon_array2.append(epsilon)\n",
        "\n",
        "\n",
        "\n",
        "\n",
        "\n",
        "\n",
        "\n",
        "    # for third starting point\n",
        "    for t in tqdm(range(1,101)):\n",
        "        rev_curr3 = 100*np.exp(-((price_estimate3-5)**2)/20)+np.random.normal(0,3)\n",
        "    #     rev_curr_predict = (w.reshape(1,5)@p_curr)[0][0]\n",
        "    #     print(rev_curr)\n",
        "        reven_array3.append(rev_curr3)\n",
        "    #     reven_array_predicted.append(rev_curr_predict\n",
        "        # sigma3 = sigma3*np.random.normal(0,1)\n",
        "        mu = torch.tensor(mu3.reshape(len(mu3),1),requires_grad = True)\n",
        "        # sigma = torch.tensor(sigma3.reshape(len(sigma3),1),requires_grad = True)\n",
        "        sum = torch.tensor([0])\n",
        "        for i in range(len(p_array3)):\n",
        "            p_vec = p_vector(p_array3[i])\n",
        "            p_vec = p_vec.reshape(len(p_vec),1)\n",
        "            p_vec = torch.tensor(p_vec)\n",
        "            revenue = reven_array3[i]\n",
        "            sum =sum + ((torch.transpose(mu,0,1)@p_vec - torch.tensor([[revenue]]))**2)/t\n",
        "        # print(sum.size())\n",
        "        external_grad = torch.tensor([[1]])\n",
        "        sum.backward(gradient = external_grad)\n",
        "        mu3 = (mu- alpha*mu.grad).detach().numpy()\n",
        "        # sigma3 = (sigma - alpha*sigma.grad).detach().numpy()\n",
        "        w3 = mu3\n",
        "    #     print(w)\n",
        "        price_estimate3 = minimize(g_fun,x0 = np.array([random.random()]),args = (w3),bounds = [(pl,ph)])[\"x\"][0]\n",
        "        epsi = np.exp(-(t-1))\n",
        "        unif = np.random.uniform(size = 1)\n",
        "        if unif < epsi:\n",
        "          price_estimate3 = np.random.uniform(low = pl,high = ph,size  = 1)[0]\n",
        "        p_array3.append(price_estimate3)\n",
        "        p_curr3 = p_vector(price_estimate3)\n",
        "        # print(p_curr)\n",
        "        epsilon = np.max([0,np.min(100 - np.array(reven_array3))])\n",
        "        epsilon_array3.append(epsilon)\n",
        "\n",
        "\n",
        "\n",
        "    e= np.array([np.min(epsilon_array),np.min(epsilon_array2),np.min(epsilon_array3)])\n",
        "    ex = np.argmin(e)\n",
        "    if ex == 0:\n",
        "      return np.array(epsilon_array)\n",
        "    if ex == 1:\n",
        "      return np.array(epsilon_array2)\n",
        "    if ex == 2:\n",
        "      return np.array(epsilon_array3)\n",
        "\n"
      ],
      "metadata": {
        "id": "JuWsP47YT_t9"
      },
      "execution_count": null,
      "outputs": []
    },
    {
      "cell_type": "code",
      "source": [
        "best_till_now = []\n",
        "for i in tqdm(range(10)):\n",
        "  best_till_now.append(ActionSpace())\n",
        "# np.mean(best_till_now)"
      ],
      "metadata": {
        "colab": {
          "base_uri": "https://localhost:8080/"
        },
        "id": "fdckSFPgUGvv",
        "outputId": "95fc9334-cea6-461e-9053-1746d870dc5a"
      },
      "execution_count": null,
      "outputs": [
        {
          "output_type": "stream",
          "name": "stderr",
          "text": [
            "  0%|          | 0/10 [00:00<?, ?it/s]\n",
            "  0%|          | 0/100 [00:00<?, ?it/s]\u001b[A\n",
            "  1%|          | 1/100 [00:00<00:11,  8.46it/s]\u001b[A\n",
            " 14%|█▍        | 14/100 [00:00<00:01, 73.47it/s]\u001b[A\n",
            " 26%|██▌       | 26/100 [00:00<00:00, 92.09it/s]\u001b[A\n",
            " 42%|████▏     | 42/100 [00:00<00:00, 114.36it/s]\u001b[A/usr/local/lib/python3.10/dist-packages/scipy/optimize/_numdiff.py:576: RuntimeWarning: invalid value encountered in subtract\n",
            "  df = fun(x) - f0\n",
            "\n",
            " 54%|█████▍    | 54/100 [00:00<00:00, 105.13it/s]\u001b[A\n",
            " 65%|██████▌   | 65/100 [00:00<00:00, 93.97it/s] \u001b[A\n",
            " 75%|███████▌  | 75/100 [00:00<00:00, 86.20it/s]\u001b[A\n",
            " 84%|████████▍ | 84/100 [00:01<00:00, 75.40it/s]\u001b[A\n",
            " 92%|█████████▏| 92/100 [00:01<00:00, 69.96it/s]\u001b[A\n",
            "100%|██████████| 100/100 [00:01<00:00, 76.82it/s]\n",
            "\n",
            "  0%|          | 0/100 [00:00<?, ?it/s]\u001b[A\n",
            " 26%|██▌       | 26/100 [00:00<00:00, 248.01it/s]\u001b[A\n",
            " 51%|█████     | 51/100 [00:00<00:00, 142.47it/s]\u001b[A\n",
            " 68%|██████▊   | 68/100 [00:00<00:00, 111.57it/s]\u001b[A\n",
            " 81%|████████  | 81/100 [00:00<00:00, 93.41it/s] \u001b[A\n",
            "100%|██████████| 100/100 [00:01<00:00, 92.25it/s]\n",
            "\n",
            "  0%|          | 0/100 [00:00<?, ?it/s]\u001b[A\n",
            " 32%|███▏      | 32/100 [00:00<00:00, 314.45it/s]\u001b[A\n",
            " 64%|██████▍   | 64/100 [00:00<00:00, 115.32it/s]\u001b[A\n",
            " 82%|████████▏ | 82/100 [00:00<00:00, 78.49it/s] \u001b[A\n",
            "100%|██████████| 100/100 [00:01<00:00, 70.41it/s]\n",
            " 10%|█         | 1/10 [00:03<00:34,  3.86s/it]\n",
            "  0%|          | 0/100 [00:00<?, ?it/s]\u001b[A\n",
            " 34%|███▍      | 34/100 [00:00<00:00, 328.53it/s]\u001b[A\n",
            " 67%|██████▋   | 67/100 [00:00<00:00, 106.72it/s]\u001b[A\n",
            " 85%|████████▌ | 85/100 [00:00<00:00, 74.66it/s] \u001b[A\n",
            "100%|██████████| 100/100 [00:01<00:00, 73.42it/s]\n",
            "\n",
            "  0%|          | 0/100 [00:00<?, ?it/s]\u001b[A\n",
            " 25%|██▌       | 25/100 [00:00<00:00, 236.63it/s]\u001b[A<ipython-input-4-d616a99fe620>:18: RuntimeWarning: overflow encountered in multiply\n",
            "  return -np.sum(coeff_array*p_vec)\n",
            "\n",
            " 49%|████▉     | 49/100 [00:00<00:00, 130.20it/s]\u001b[A\n",
            " 65%|██████▌   | 65/100 [00:00<00:00, 85.37it/s] \u001b[A\n",
            " 76%|███████▌  | 76/100 [00:00<00:00, 69.84it/s]\u001b[A\n",
            " 85%|████████▌ | 85/100 [00:01<00:00, 58.41it/s]\u001b[A\n",
            " 92%|█████████▏| 92/100 [00:01<00:00, 53.07it/s]\u001b[A\n",
            "100%|██████████| 100/100 [00:01<00:00, 65.21it/s]\n",
            "\n",
            "  0%|          | 0/100 [00:00<?, ?it/s]\u001b[A\n",
            " 32%|███▏      | 32/100 [00:00<00:00, 319.64it/s]\u001b[A\n",
            " 64%|██████▍   | 64/100 [00:00<00:00, 147.86it/s]\u001b[A\n",
            " 84%|████████▍ | 84/100 [00:00<00:00, 105.50it/s]\u001b[A\n",
            "100%|██████████| 100/100 [00:00<00:00, 101.90it/s]\n",
            " 20%|██        | 2/10 [00:07<00:31,  3.89s/it]\n",
            "  0%|          | 0/100 [00:00<?, ?it/s]\u001b[A\n",
            " 33%|███▎      | 33/100 [00:00<00:00, 326.81it/s]\u001b[A\n",
            " 66%|██████▌   | 66/100 [00:00<00:00, 145.20it/s]\u001b[A\n",
            " 86%|████████▌ | 86/100 [00:00<00:00, 107.43it/s]\u001b[A\n",
            "100%|██████████| 100/100 [00:00<00:00, 107.11it/s]\n",
            "\n",
            "  0%|          | 0/100 [00:00<?, ?it/s]\u001b[A\n",
            " 32%|███▏      | 32/100 [00:00<00:00, 309.97it/s]\u001b[A\n",
            " 63%|██████▎   | 63/100 [00:00<00:00, 152.98it/s]\u001b[A\n",
            " 83%|████████▎ | 83/100 [00:00<00:00, 107.20it/s]\u001b[A\n",
            "100%|██████████| 100/100 [00:00<00:00, 104.82it/s]\n",
            "\n",
            "  0%|          | 0/100 [00:00<?, ?it/s]\u001b[A\n",
            " 31%|███       | 31/100 [00:00<00:00, 307.52it/s]\u001b[A\n",
            " 62%|██████▏   | 62/100 [00:00<00:00, 153.15it/s]\u001b[A\n",
            " 82%|████████▏ | 82/100 [00:00<00:00, 107.51it/s]\u001b[A\n",
            "100%|██████████| 100/100 [00:00<00:00, 103.73it/s]\n",
            " 30%|███       | 3/10 [00:10<00:24,  3.44s/it]\n",
            "  0%|          | 0/100 [00:00<?, ?it/s]\u001b[A\n",
            " 33%|███▎      | 33/100 [00:00<00:00, 315.36it/s]\u001b[A\n",
            " 65%|██████▌   | 65/100 [00:00<00:00, 145.38it/s]\u001b[A\n",
            " 85%|████████▌ | 85/100 [00:00<00:00, 103.63it/s]\u001b[A\n",
            "100%|██████████| 100/100 [00:00<00:00, 102.85it/s]\n",
            "\n",
            "  0%|          | 0/100 [00:00<?, ?it/s]\u001b[A\n",
            " 31%|███       | 31/100 [00:00<00:00, 308.47it/s]\u001b[A\n",
            " 62%|██████▏   | 62/100 [00:00<00:00, 157.16it/s]\u001b[A\n",
            " 82%|████████▏ | 82/100 [00:00<00:00, 112.66it/s]\u001b[A\n",
            "100%|██████████| 100/100 [00:00<00:00, 106.13it/s]\n",
            "\n",
            "  0%|          | 0/100 [00:00<?, ?it/s]\u001b[A\n",
            " 32%|███▏      | 32/100 [00:00<00:00, 308.54it/s]\u001b[A\n",
            " 63%|██████▎   | 63/100 [00:00<00:00, 149.85it/s]\u001b[A\n",
            " 83%|████████▎ | 83/100 [00:00<00:00, 107.96it/s]\u001b[A\n",
            "100%|██████████| 100/100 [00:00<00:00, 102.80it/s]\n",
            " 40%|████      | 4/10 [00:13<00:19,  3.24s/it]\n",
            "  0%|          | 0/100 [00:00<?, ?it/s]\u001b[A\n",
            " 32%|███▏      | 32/100 [00:00<00:00, 316.61it/s]\u001b[A\n",
            " 64%|██████▍   | 64/100 [00:00<00:00, 153.04it/s]\u001b[A\n",
            " 84%|████████▍ | 84/100 [00:00<00:00, 109.17it/s]\u001b[A\n",
            "100%|██████████| 100/100 [00:00<00:00, 105.06it/s]\n",
            "\n",
            "  0%|          | 0/100 [00:00<?, ?it/s]\u001b[A\n",
            " 31%|███       | 31/100 [00:00<00:00, 301.83it/s]\u001b[A\n",
            " 62%|██████▏   | 62/100 [00:00<00:00, 152.67it/s]\u001b[A\n",
            " 82%|████████▏ | 82/100 [00:00<00:00, 111.27it/s]\u001b[A\n",
            "100%|██████████| 100/100 [00:00<00:00, 104.59it/s]\n",
            "\n",
            "  0%|          | 0/100 [00:00<?, ?it/s]\u001b[A\n",
            " 32%|███▏      | 32/100 [00:00<00:00, 319.81it/s]\u001b[A\n",
            " 64%|██████▍   | 64/100 [00:00<00:00, 149.54it/s]\u001b[A\n",
            " 84%|████████▍ | 84/100 [00:00<00:00, 107.98it/s]\u001b[A\n",
            "100%|██████████| 100/100 [00:00<00:00, 104.28it/s]\n",
            " 50%|█████     | 5/10 [00:16<00:15,  3.12s/it]\n",
            "  0%|          | 0/100 [00:00<?, ?it/s]\u001b[A\n",
            " 31%|███       | 31/100 [00:00<00:00, 307.01it/s]\u001b[A\n",
            " 62%|██████▏   | 62/100 [00:00<00:00, 119.98it/s]\u001b[A\n",
            " 80%|████████  | 80/100 [00:00<00:00, 78.65it/s] \u001b[A\n",
            "100%|██████████| 100/100 [00:01<00:00, 74.38it/s]\n",
            "\n",
            "  0%|          | 0/100 [00:00<?, ?it/s]\u001b[A\n",
            " 25%|██▌       | 25/100 [00:00<00:00, 247.20it/s]\u001b[A\n",
            " 50%|█████     | 50/100 [00:00<00:00, 130.78it/s]\u001b[A\n",
            " 66%|██████▌   | 66/100 [00:00<00:00, 88.34it/s] \u001b[A\n",
            " 78%|███████▊  | 78/100 [00:00<00:00, 71.34it/s]\u001b[A\n",
            " 87%|████████▋ | 87/100 [00:01<00:00, 61.90it/s]\u001b[A\n",
            "100%|██████████| 100/100 [00:01<00:00, 67.35it/s]\n",
            "\n",
            "  0%|          | 0/100 [00:00<?, ?it/s]\u001b[A\n",
            " 24%|██▍       | 24/100 [00:00<00:00, 238.50it/s]\u001b[A\n",
            " 48%|████▊     | 48/100 [00:00<00:00, 179.57it/s]\u001b[A\n",
            " 67%|██████▋   | 67/100 [00:00<00:00, 124.92it/s]\u001b[A\n",
            " 82%|████████▏ | 82/100 [00:00<00:00, 98.79it/s] \u001b[A\n",
            "100%|██████████| 100/100 [00:01<00:00, 99.34it/s]\n",
            " 60%|██████    | 6/10 [00:20<00:13,  3.38s/it]\n",
            "  0%|          | 0/100 [00:00<?, ?it/s]\u001b[A\n",
            " 31%|███       | 31/100 [00:00<00:00, 309.65it/s]\u001b[A\n",
            " 62%|██████▏   | 62/100 [00:00<00:00, 150.18it/s]\u001b[A\n",
            " 82%|████████▏ | 82/100 [00:00<00:00, 110.61it/s]\u001b[A\n",
            "100%|██████████| 100/100 [00:00<00:00, 102.38it/s]\n",
            "\n",
            "  0%|          | 0/100 [00:00<?, ?it/s]\u001b[A\n",
            " 27%|██▋       | 27/100 [00:00<00:00, 262.14it/s]\u001b[A\n",
            " 54%|█████▍    | 54/100 [00:00<00:00, 140.88it/s]\u001b[A\n",
            " 72%|███████▏  | 72/100 [00:00<00:00, 108.33it/s]\u001b[A\n",
            " 85%|████████▌ | 85/100 [00:00<00:00, 93.06it/s] \u001b[A\n",
            "100%|██████████| 100/100 [00:01<00:00, 96.14it/s]\n",
            "\n",
            "  0%|          | 0/100 [00:00<?, ?it/s]\u001b[A\n",
            " 27%|██▋       | 27/100 [00:00<00:00, 269.72it/s]\u001b[A\n",
            " 54%|█████▍    | 54/100 [00:00<00:00, 146.19it/s]\u001b[A\n",
            " 72%|███████▏  | 72/100 [00:00<00:00, 114.09it/s]\u001b[A\n",
            " 86%|████████▌ | 86/100 [00:00<00:00, 91.45it/s] \u001b[A\n",
            "100%|██████████| 100/100 [00:01<00:00, 96.80it/s]\n",
            " 70%|███████   | 7/10 [00:23<00:09,  3.29s/it]\n",
            "  0%|          | 0/100 [00:00<?, ?it/s]\u001b[A\n",
            " 31%|███       | 31/100 [00:00<00:00, 304.54it/s]\u001b[A\n",
            " 62%|██████▏   | 62/100 [00:00<00:00, 149.14it/s]\u001b[A\n",
            " 82%|████████▏ | 82/100 [00:00<00:00, 110.08it/s]\u001b[A\n",
            "100%|██████████| 100/100 [00:00<00:00, 104.11it/s]\n",
            "\n",
            "  0%|          | 0/100 [00:00<?, ?it/s]\u001b[A\n",
            " 33%|███▎      | 33/100 [00:00<00:00, 315.80it/s]\u001b[A\n",
            " 65%|██████▌   | 65/100 [00:00<00:00, 143.40it/s]\u001b[A\n",
            " 85%|████████▌ | 85/100 [00:00<00:00, 106.99it/s]\u001b[A\n",
            "100%|██████████| 100/100 [00:00<00:00, 103.43it/s]\n",
            "\n",
            "  0%|          | 0/100 [00:00<?, ?it/s]\u001b[A\n",
            " 32%|███▏      | 32/100 [00:00<00:00, 306.99it/s]\u001b[A\n",
            " 63%|██████▎   | 63/100 [00:00<00:00, 141.69it/s]\u001b[A\n",
            " 82%|████████▏ | 82/100 [00:00<00:00, 104.73it/s]\u001b[A\n",
            "100%|██████████| 100/100 [00:00<00:00, 101.93it/s]\n",
            " 80%|████████  | 8/10 [00:26<00:06,  3.18s/it]\n",
            "  0%|          | 0/100 [00:00<?, ?it/s]\u001b[A\n",
            " 33%|███▎      | 33/100 [00:00<00:00, 313.78it/s]\u001b[A\n",
            " 65%|██████▌   | 65/100 [00:00<00:00, 145.17it/s]\u001b[A\n",
            " 85%|████████▌ | 85/100 [00:00<00:00, 108.39it/s]\u001b[A\n",
            "100%|██████████| 100/100 [00:00<00:00, 105.58it/s]\n",
            "\n",
            "  0%|          | 0/100 [00:00<?, ?it/s]\u001b[A\n",
            " 32%|███▏      | 32/100 [00:00<00:00, 314.55it/s]\u001b[A\n",
            " 64%|██████▍   | 64/100 [00:00<00:00, 145.50it/s]\u001b[A\n",
            " 84%|████████▍ | 84/100 [00:00<00:00, 106.17it/s]\u001b[A\n",
            "100%|██████████| 100/100 [00:01<00:00, 99.05it/s]\n",
            "\n",
            "  0%|          | 0/100 [00:00<?, ?it/s]\u001b[A\n",
            " 33%|███▎      | 33/100 [00:00<00:00, 323.86it/s]\u001b[A\n",
            " 66%|██████▌   | 66/100 [00:00<00:00, 142.29it/s]\u001b[A\n",
            " 86%|████████▌ | 86/100 [00:00<00:00, 106.53it/s]\u001b[A\n",
            "100%|██████████| 100/100 [00:00<00:00, 105.45it/s]\n",
            " 90%|█████████ | 9/10 [00:29<00:03,  3.11s/it]\n",
            "  0%|          | 0/100 [00:00<?, ?it/s]\u001b[A\n",
            " 32%|███▏      | 32/100 [00:00<00:00, 299.34it/s]\u001b[A\n",
            " 62%|██████▏   | 62/100 [00:00<00:00, 107.94it/s]\u001b[A\n",
            " 79%|███████▉  | 79/100 [00:00<00:00, 78.80it/s] \u001b[A\n",
            " 91%|█████████ | 91/100 [00:01<00:00, 65.45it/s]\u001b[A\n",
            "100%|██████████| 100/100 [00:01<00:00, 72.82it/s]\n",
            "\n",
            "  0%|          | 0/100 [00:00<?, ?it/s]\u001b[A\n",
            " 23%|██▎       | 23/100 [00:00<00:00, 227.54it/s]\u001b[A\n",
            " 46%|████▌     | 46/100 [00:00<00:00, 151.72it/s]\u001b[A\n",
            " 63%|██████▎   | 63/100 [00:00<00:00, 89.87it/s] \u001b[A\n",
            " 75%|███████▌  | 75/100 [00:00<00:00, 72.28it/s]\u001b[A\n",
            " 84%|████████▍ | 84/100 [00:01<00:00, 61.66it/s]\u001b[A\n",
            " 92%|█████████▏| 92/100 [00:01<00:00, 54.28it/s]\u001b[A\n",
            "100%|██████████| 100/100 [00:01<00:00, 65.56it/s]\n",
            "\n",
            "  0%|          | 0/100 [00:00<?, ?it/s]\u001b[A\n",
            " 32%|███▏      | 32/100 [00:00<00:00, 301.96it/s]\u001b[A\n",
            " 63%|██████▎   | 63/100 [00:00<00:00, 154.79it/s]\u001b[A\n",
            " 83%|████████▎ | 83/100 [00:00<00:00, 110.75it/s]\u001b[A\n",
            "100%|██████████| 100/100 [00:00<00:00, 106.81it/s]\n",
            "100%|██████████| 10/10 [00:33<00:00,  3.33s/it]\n"
          ]
        }
      ]
    },
    {
      "cell_type": "code",
      "source": [
        "import matplotlib.pyplot as plt\n",
        "plt.figure(figsize = (10,8))\n",
        "for i in range(10):\n",
        "  plt.plot(best_till_now[i])"
      ],
      "metadata": {
        "colab": {
          "base_uri": "https://localhost:8080/",
          "height": 676
        },
        "id": "Qs9err74ULFw",
        "outputId": "96ea8ebf-06f9-4dc0-cd2a-2ccb9d17bb7d"
      },
      "execution_count": null,
      "outputs": [
        {
          "output_type": "display_data",
          "data": {
            "text/plain": [
              "<Figure size 1000x800 with 1 Axes>"
            ],
            "image/png": "[encoded data removed]"
          },
          "metadata": {}
        }
      ]
    },
    {
      "cell_type": "code",
      "source": [
        "plt.figure(figsize = (10,8))\n",
        "plt.plot(np.mean(best_till_now,axis = 0))"
      ],
      "metadata": {
        "colab": {
          "base_uri": "https://localhost:8080/",
          "height": 693
        },
        "id": "tzwrhWj-UOH4",
        "outputId": "e17e95d5-9d97-4d1b-8463-a9cdacbef572"
      },
      "execution_count": null,
      "outputs": [
        {
          "output_type": "execute_result",
          "data": {
            "text/plain": [
              "[<matplotlib.lines.Line2D at 0x7f0d89822b00>]"
            ]
          },
          "metadata": {},
          "execution_count": 7
        },
        {
          "output_type": "display_data",
          "data": {
            "text/plain": [
              "<Figure size 1000x800 with 1 Axes>"
            ],
            "image/png": "[encoded data removed]"
          },
          "metadata": {}
        }
      ]
    },
    {
      "cell_type": "code",
      "source": [
        "import pickle\n",
        "best_till_now = np.mean(best_till_now,axis = 0)"
      ],
      "metadata": {
        "id": "VMlt5kmMYQTy"
      },
      "execution_count": null,
      "outputs": []
    },
    {
      "cell_type": "code",
      "source": [
        "file_path = open(\"Action_Space_exp_reven.txt\",\"wb\")\n",
        "pickle.dump(best_till_now,file_path)"
      ],
      "metadata": {
        "id": "j4QinnxwYTzc"
      },
      "execution_count": null,
      "outputs": []
    },
    {
      "cell_type": "code",
      "source": [
        "best_till_now"
      ],
      "metadata": {
        "colab": {
          "base_uri": "https://localhost:8080/"
        },
        "id": "IX_Wte4Fd2vJ",
        "outputId": "44421878-cb26-408a-b6a5-e9e770e33d86"
      },
      "execution_count": null,
      "outputs": [
        {
          "output_type": "execute_result",
          "data": {
            "text/plain": [
              "array([99.93361328, 74.44135659, 67.25308092, 52.34932095, 52.34932095,\n",
              "       50.46545006, 50.46545006, 49.99159979, 49.99159979, 49.99159979,\n",
              "       49.99159979, 49.86559243, 49.86559243, 49.34856132, 49.34856132,\n",
              "       49.34856132, 49.34856132, 48.99796259, 48.99796259, 48.89913051,\n",
              "       48.89913051, 48.89913051, 48.89913051, 48.61474033, 48.61474033,\n",
              "       48.61474033, 48.61474033, 48.53009927, 48.53009927, 48.53009927,\n",
              "       48.53009927, 48.53009927, 48.53009927, 48.53009927, 48.53009927,\n",
              "       48.53009927, 48.53009927, 48.53009927, 48.53009927, 48.53009927,\n",
              "       48.53009927, 48.53009927, 48.53009927, 48.4234078 , 48.4234078 ,\n",
              "       48.4234078 , 44.28253214, 43.18255066, 42.07764906, 41.877933  ,\n",
              "       41.2897218 , 41.07926205, 41.07926205, 41.06201187, 40.77158143,\n",
              "       40.65454422, 40.65454422, 40.65454422, 40.65454422, 40.65454422,\n",
              "       40.65454422, 40.65454422, 40.65454422, 40.65454422, 40.65454422,\n",
              "       40.65454422, 40.65454422, 40.65454422, 40.65454422, 40.65454422,\n",
              "       40.65454422, 40.65454422, 40.65454422, 39.99644538, 39.99644538,\n",
              "       39.99644538, 39.99644538, 39.66873727, 39.66873727, 39.66873727,\n",
              "       39.66873727, 39.57463808, 39.57463808, 39.57463808, 39.57463808,\n",
              "       39.57463808, 39.57463808, 39.25854717, 39.25854717, 39.25854717,\n",
              "       39.25854717, 39.25854717, 39.25854717, 39.25854717, 39.25854717,\n",
              "       38.87257168, 38.87257168, 38.87257168, 38.87257168, 38.87257168])"
            ]
          },
          "metadata": {},
          "execution_count": 10
        }
      ]
    },
    {
      "cell_type": "code",
      "source": [],
      "metadata": {
        "id": "3iMjihn4lO4X"
      },
      "execution_count": null,
      "outputs": []
    }
  ]
}