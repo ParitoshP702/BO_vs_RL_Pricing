{
  "nbformat": 4,
  "nbformat_minor": 0,
  "metadata": {
    "colab": {
      "provenance": [],
      "authorship_tag": "ABX9TyN47igfHSy64RZkm+awprRu",
      "include_colab_link": true
    },
    "kernelspec": {
      "name": "python3",
      "display_name": "Python 3"
    },
    "language_info": {
      "name": "python"
    }
  },
  "cells": [
    {
      "cell_type": "markdown",
      "metadata": {
        "id": "view-in-github",
        "colab_type": "text"
      },
      "source": [
        "<a href=\"https://colab.research.google.com/github/ParitoshP702/BO_vs_RL_Pricing/blob/main/Thompson_Sampling.ipynb\" target=\"_parent\"><img src=\"https://colab.research.google.com/assets/colab-badge.svg\" alt=\"Open In Colab\"/></a>"
      ]
    },
    {
      "cell_type": "code",
      "execution_count": null,
      "metadata": {
        "id": "0EQcir1x3fYu"
      },
      "outputs": [],
      "source": [
        "import numpy as np\n",
        "import math\n",
        "import random"
      ]
    },
    {
      "cell_type": "code",
      "source": [
        "# true_coeff = np.array([-150,480,-165,22,-1])"
      ],
      "metadata": {
        "id": "UjAJ9V803qa_"
      },
      "execution_count": null,
      "outputs": []
    },
    {
      "cell_type": "code",
      "source": [
        "def revenue(p):\n",
        "    #  p_vec = np.array([1,p,p**2,p**3,p**4])\n",
        "     return 100*np.exp(-((p-5)**2)/20)"
      ],
      "metadata": {
        "id": "uQfFGi6o3t0W"
      },
      "execution_count": null,
      "outputs": []
    },
    {
      "cell_type": "code",
      "source": [
        "def p_vector(p):\n",
        "    p_vec = np.array([1,p,p**2])\n",
        "    return p_vec.reshape(len(p_vec),1)"
      ],
      "metadata": {
        "id": "33t5_YJZ33oT"
      },
      "execution_count": null,
      "outputs": []
    },
    {
      "cell_type": "code",
      "source": [
        "# def find_barycentre(d):\n"
      ],
      "metadata": {
        "id": "-JXg8H89-uFU"
      },
      "execution_count": null,
      "outputs": []
    },
    {
      "cell_type": "code",
      "source": [
        "b1 = 0\n",
        "b2 = 0.5\n",
        "b3 = 1\n",
        "# b4 = 0.5+(3/28)**0.5\n",
        "# b5 = 1\n",
        "barycentric_spanner = [b1,b2,b3]"
      ],
      "metadata": {
        "id": "uawN7j0Y36gN"
      },
      "execution_count": null,
      "outputs": []
    },
    {
      "cell_type": "code",
      "source": [
        "def g_fun(p,*args):\n",
        "    p_vec = np.array([1,p,p**2])\n",
        "    coeff_array = args\n",
        "    return -np.sum(coeff_array*p_vec)"
      ],
      "metadata": {
        "id": "r_HgHVA_39Gz"
      },
      "execution_count": null,
      "outputs": []
    },
    {
      "cell_type": "code",
      "source": [
        "var_cov_inv = np.zeros((3,3))\n",
        "for b in barycentric_spanner:\n",
        "    b_vec = p_vector(b)\n",
        "    var_cov_inv += b_vec@np.transpose(b_vec)"
      ],
      "metadata": {
        "id": "YmHDaU-03_4T"
      },
      "execution_count": null,
      "outputs": []
    },
    {
      "cell_type": "code",
      "source": [
        "var_cov = np.linalg.inv(var_cov_inv)"
      ],
      "metadata": {
        "id": "PzRm-vK94FDd"
      },
      "execution_count": null,
      "outputs": []
    },
    {
      "cell_type": "code",
      "source": [
        "mu_ = np.array([0,0,0])"
      ],
      "metadata": {
        "id": "wGtd8gCX4Hu6"
      },
      "execution_count": null,
      "outputs": []
    },
    {
      "cell_type": "code",
      "source": [
        "pl = 0\n",
        "ph = 100"
      ],
      "metadata": {
        "id": "CqQdj0v94PNJ"
      },
      "execution_count": null,
      "outputs": []
    },
    {
      "cell_type": "code",
      "source": [
        "w = np.random.multivariate_normal(np.array([0,0,0]),var_cov)"
      ],
      "metadata": {
        "id": "8rgnp_VR4SAN"
      },
      "execution_count": null,
      "outputs": []
    },
    {
      "cell_type": "code",
      "source": [
        "from scipy.optimize import minimize\n",
        "price_estimate = minimize(g_fun,x0 = np.array([random.random()]),args = (w),bounds = [(pl,ph)])[\"x\"][0]"
      ],
      "metadata": {
        "colab": {
          "base_uri": "https://localhost:8080/"
        },
        "id": "fIH2Nkwu4U4F",
        "outputId": "4f6d425e-bb1f-4c96-a869-1ef30e70d207"
      },
      "execution_count": null,
      "outputs": [
        {
          "output_type": "stream",
          "name": "stderr",
          "text": [
            "<ipython-input-52-405c292db23a>:2: VisibleDeprecationWarning: Creating an ndarray from ragged nested sequences (which is a list-or-tuple of lists-or-tuples-or ndarrays with different lengths or shapes) is deprecated. If you meant to do this, you must specify 'dtype=object' when creating the ndarray.\n",
            "  p_vec = np.array([1,p,p**2])\n"
          ]
        }
      ]
    },
    {
      "cell_type": "code",
      "source": [
        "w"
      ],
      "metadata": {
        "colab": {
          "base_uri": "https://localhost:8080/"
        },
        "id": "vXseZZiY4XtV",
        "outputId": "62047370-c759-480b-d605-6a4de64d5bfa"
      },
      "execution_count": null,
      "outputs": [
        {
          "output_type": "execute_result",
          "data": {
            "text/plain": [
              "array([ 0.64750043,  2.02248155, -2.54600833])"
            ]
          },
          "metadata": {},
          "execution_count": 59
        }
      ]
    },
    {
      "cell_type": "code",
      "source": [
        "p_array = []"
      ],
      "metadata": {
        "id": "9MSxOGS54aq0"
      },
      "execution_count": null,
      "outputs": []
    },
    {
      "cell_type": "code",
      "source": [
        "p_curr = p_vector(price_estimate)\n",
        "p_array.append(price_estimate)"
      ],
      "metadata": {
        "id": "_TUJtXOU4dEL"
      },
      "execution_count": null,
      "outputs": []
    },
    {
      "cell_type": "code",
      "source": [
        "reven_array = []\n",
        "price_estimate"
      ],
      "metadata": {
        "colab": {
          "base_uri": "https://localhost:8080/"
        },
        "id": "bcs1g7ZY4f85",
        "outputId": "fc3994d0-5d4c-41ff-dd85-e51c88519d2e"
      },
      "execution_count": null,
      "outputs": [
        {
          "output_type": "execute_result",
          "data": {
            "text/plain": [
              "0.3971867481441011"
            ]
          },
          "metadata": {},
          "execution_count": 62
        }
      ]
    },
    {
      "cell_type": "code",
      "source": [
        "np.linalg.eig(var_cov)"
      ],
      "metadata": {
        "colab": {
          "base_uri": "https://localhost:8080/"
        },
        "id": "htiHJxhr7fW-",
        "outputId": "f09a32c7-3568-4a60-bbf8-e70252bcea38"
      },
      "execution_count": null,
      "outputs": [
        {
          "output_type": "execute_result",
          "data": {
            "text/plain": [
              "(array([49.28181371,  0.21614862,  1.50203766]),\n",
              " array([[-0.07333072,  0.76826332, -0.63591987],\n",
              "        [ 0.7203976 ,  0.48175309,  0.49894014],\n",
              "        [-0.68967377,  0.4215275 ,  0.58878235]]))"
            ]
          },
          "metadata": {},
          "execution_count": 63
        }
      ]
    },
    {
      "cell_type": "code",
      "source": [
        "from tqdm import tqdm"
      ],
      "metadata": {
        "id": "HgMnzXy-4iLm"
      },
      "execution_count": null,
      "outputs": []
    },
    {
      "cell_type": "code",
      "source": [
        "def update_mean(rev,p_ar):\n",
        "    sum = 0\n",
        "    for i in range(len(rev)):\n",
        "        price = p_ar[i]\n",
        "        p = p_vector(price)\n",
        "        sum += rev[i]*p/9\n",
        "    return sum\n"
      ],
      "metadata": {
        "id": "PeHI_6TW5sXq"
      },
      "execution_count": null,
      "outputs": []
    },
    {
      "cell_type": "code",
      "source": [
        "def update_mat(p_ar):\n",
        "    sum = 0\n",
        "    for i in range(len(p_ar)):\n",
        "        price = p_ar[i]\n",
        "        p = p_vector(price)\n",
        "        sum += (p@np.transpose(p))/9\n",
        "    return sum"
      ],
      "metadata": {
        "id": "iz5vaBjk45Me"
      },
      "execution_count": null,
      "outputs": []
    },
    {
      "cell_type": "code",
      "source": [
        "def Thompson():\n",
        "    epsilon_array = []\n",
        "    def p_vector(p):\n",
        "        p_vec = np.array([1,p,p**2])\n",
        "        return p_vec.reshape(len(p_vec),1)\n",
        "\n",
        "    def g_fun(p,*args):\n",
        "          p_vec = np.array([1,p,p**2])\n",
        "          coeff_array = args\n",
        "          return -np.sum(coeff_array*p_vec)\n",
        "    var_cov_inv = np.zeros((3,3))\n",
        "    for b in barycentric_spanner:\n",
        "        b_vec = p_vector(b)\n",
        "        var_cov_inv += b_vec@np.transpose(b_vec)\n",
        "\n",
        "    var_cov = np.linalg.inv(var_cov_inv)\n",
        "    mu_ = np.array([0,0,0])\n",
        "    pl = 0\n",
        "    ph = 100\n",
        "    w = np.random.multivariate_normal(np.array([0,0,0]),var_cov)\n",
        "    price_estimate = minimize(g_fun,x0 = np.array([random.random()]),args = (w),bounds = [(pl,ph)])[\"x\"][0]\n",
        "    p_array = []\n",
        "    p_curr = p_vector(price_estimate)\n",
        "    p_array.append(price_estimate)\n",
        "    reven_array = []\n",
        "    def update_mat(p_ar):\n",
        "        sum = 0\n",
        "        for i in range(len(p_ar)):\n",
        "            price = p_ar[i]\n",
        "            p = p_vector(price)\n",
        "            sum += (p@np.transpose(p))/9\n",
        "        return sum\n",
        "\n",
        "    for i in tqdm(range(100)):\n",
        "        rev_curr = 100*np.exp(-((price_estimate-5)**2)/20)+np.random.normal(0,3)\n",
        "        reven_array.append(rev_curr)\n",
        "        var_copy = var_cov\n",
        "        mu_copy = mu_\n",
        "        var_cov = np.linalg.inv(np.linalg.inv(var_copy) + update_mat(p_array))\n",
        "        # np.linalg.eig(var_cov)\n",
        "        min_ev = np.min(np.linalg.eig(var_cov)[0])\n",
        "        if min_ev <= 0:\n",
        "            var_cov += np.diag(np.array([1e-5,1e-5,1e-5]))\n",
        "        mu_ = var_cov@(np.linalg.inv(var_copy)@mu_copy.reshape(3,1) + update_mean(reven_array,p_array))\n",
        "    #     mu_ = var_cov@( rev_curr*p_curr/100)\n",
        "        mu_ = mu_.reshape(3,)\n",
        "        w_sample = np.random.multivariate_normal(mu_,var_cov)\n",
        "        price_estimate = minimize(g_fun,x0 = np.array([random.random()]),args = (w_sample),bounds = [(pl,ph)])[\"x\"][0]\n",
        "        p_curr = p_vector(price_estimate)\n",
        "        p_array.append(price_estimate)\n",
        "        epsilon =np.max([0,np.min(100 - np.array(reven_array))])\n",
        "        epsilon_array.append(epsilon)\n",
        "    return np.array(epsilon_array)\n"
      ],
      "metadata": {
        "id": "BFLr5Dss4pFO"
      },
      "execution_count": null,
      "outputs": []
    },
    {
      "cell_type": "code",
      "source": [
        "best_till_now = []\n",
        "for i in tqdm(range(10)):\n",
        "  # print(Thompson())\n",
        "  best_till_now.append(Thompson())\n",
        "# np.mean(best_till_now)"
      ],
      "metadata": {
        "colab": {
          "base_uri": "https://localhost:8080/"
        },
        "id": "IinZM2wI42dI",
        "outputId": "a67bc614-6cd9-460a-90f2-ff471dcda422"
      },
      "execution_count": null,
      "outputs": [
        {
          "output_type": "stream",
          "name": "stderr",
          "text": [
            "\r  0%|          | 0/10 [00:00<?, ?it/s]<ipython-input-67-747467245d7c>:8: VisibleDeprecationWarning: Creating an ndarray from ragged nested sequences (which is a list-or-tuple of lists-or-tuples-or ndarrays with different lengths or shapes) is deprecated. If you meant to do this, you must specify 'dtype=object' when creating the ndarray.\n",
            "  p_vec = np.array([1,p,p**2])\n",
            "\n",
            "  0%|          | 0/100 [00:00<?, ?it/s]\u001b[A\n",
            " 18%|█▊        | 18/100 [00:00<00:00, 173.63it/s]\u001b[A\n",
            " 36%|███▌      | 36/100 [00:00<00:00, 139.39it/s]\u001b[A\n",
            " 51%|█████     | 51/100 [00:00<00:00, 129.31it/s]\u001b[A\n",
            " 65%|██████▌   | 65/100 [00:00<00:00, 117.40it/s]\u001b[A\n",
            " 77%|███████▋  | 77/100 [00:00<00:00, 107.80it/s]\u001b[A\n",
            "100%|██████████| 100/100 [00:00<00:00, 113.60it/s]\n",
            " 10%|█         | 1/10 [00:00<00:08,  1.08it/s]\n",
            "  0%|          | 0/100 [00:00<?, ?it/s]\u001b[A\n",
            " 49%|████▉     | 49/100 [00:00<00:00, 481.77it/s]\u001b[A\n",
            "100%|██████████| 100/100 [00:00<00:00, 297.65it/s]\n",
            " 20%|██        | 2/10 [00:01<00:04,  1.66it/s]\n",
            "  0%|          | 0/100 [00:00<?, ?it/s]\u001b[A\n",
            " 36%|███▌      | 36/100 [00:00<00:00, 357.63it/s]\u001b[A\n",
            "100%|██████████| 100/100 [00:00<00:00, 260.25it/s]\n",
            " 30%|███       | 3/10 [00:01<00:03,  1.94it/s]\n",
            "  0%|          | 0/100 [00:00<?, ?it/s]\u001b[A\n",
            " 39%|███▉      | 39/100 [00:00<00:00, 379.66it/s]\u001b[A\n",
            "100%|██████████| 100/100 [00:00<00:00, 272.85it/s]\n",
            " 40%|████      | 4/10 [00:02<00:02,  2.15it/s]\n",
            "  0%|          | 0/100 [00:00<?, ?it/s]\u001b[A\n",
            " 42%|████▏     | 42/100 [00:00<00:00, 373.70it/s]\u001b[A\n",
            "100%|██████████| 100/100 [00:00<00:00, 276.14it/s]\n",
            " 50%|█████     | 5/10 [00:02<00:02,  2.28it/s]\n",
            "  0%|          | 0/100 [00:00<?, ?it/s]\u001b[A\n",
            " 43%|████▎     | 43/100 [00:00<00:00, 416.90it/s]\u001b[A\n",
            "100%|██████████| 100/100 [00:00<00:00, 282.50it/s]\n",
            " 60%|██████    | 6/10 [00:02<00:01,  2.37it/s]\n",
            "  0%|          | 0/100 [00:00<?, ?it/s]\u001b[A\n",
            " 47%|████▋     | 47/100 [00:00<00:00, 466.68it/s]\u001b[A\n",
            "100%|██████████| 100/100 [00:00<00:00, 322.59it/s]\n",
            " 70%|███████   | 7/10 [00:03<00:01,  2.53it/s]\n",
            "  0%|          | 0/100 [00:00<?, ?it/s]\u001b[A\n",
            " 42%|████▏     | 42/100 [00:00<00:00, 413.16it/s]\u001b[A\n",
            "100%|██████████| 100/100 [00:00<00:00, 282.35it/s]\n",
            " 80%|████████  | 8/10 [00:03<00:00,  2.56it/s]\n",
            "  0%|          | 0/100 [00:00<?, ?it/s]\u001b[A\n",
            " 42%|████▏     | 42/100 [00:00<00:00, 411.40it/s]\u001b[A\n",
            "100%|██████████| 100/100 [00:00<00:00, 276.03it/s]\n",
            " 90%|█████████ | 9/10 [00:04<00:00,  2.55it/s]\n",
            "  0%|          | 0/100 [00:00<?, ?it/s]\u001b[A\n",
            " 42%|████▏     | 42/100 [00:00<00:00, 418.42it/s]\u001b[A\n",
            "100%|██████████| 100/100 [00:00<00:00, 273.73it/s]\n",
            "100%|██████████| 10/10 [00:04<00:00,  2.27it/s]\n"
          ]
        }
      ]
    },
    {
      "cell_type": "code",
      "source": [
        "import matplotlib.pyplot as plt\n",
        "plt.figure(figsize = (10,8))\n",
        "for i in range(10):\n",
        "  plt.plot(best_till_now[i])"
      ],
      "metadata": {
        "id": "ONznW0LWtiSz",
        "outputId": "8afa1e4a-eb47-4f22-c1b7-cd78928149a3",
        "colab": {
          "base_uri": "https://localhost:8080/",
          "height": 676
        }
      },
      "execution_count": null,
      "outputs": [
        {
          "output_type": "display_data",
          "data": {
            "text/plain": [
              "<Figure size 1000x800 with 1 Axes>"
            ],
            "image/png": "[encoded data removed]"
          },
          "metadata": {}
        }
      ]
    },
    {
      "cell_type": "code",
      "source": [
        "import matplotlib.pyplot as plt\n",
        "plt.figure(figsize = (10,8))\n",
        "for i  in range(10):\n",
        "  plt.plot(best_till_now[i])"
      ],
      "metadata": {
        "colab": {
          "base_uri": "https://localhost:8080/",
          "height": 676
        },
        "id": "Jrjzs8KY-90E",
        "outputId": "e44eb55e-ecc1-4cac-8dcf-bb92ed24c767"
      },
      "execution_count": null,
      "outputs": [
        {
          "output_type": "display_data",
          "data": {
            "text/plain": [
              "<Figure size 1000x800 with 1 Axes>"
            ],
            "image/png": "[encoded data removed]"
          },
          "metadata": {}
        }
      ]
    },
    {
      "cell_type": "code",
      "source": [
        "best_till_now_averaged = np.mean(best_till_now,axis = 0)"
      ],
      "metadata": {
        "id": "8A3CjYCo_f-x"
      },
      "execution_count": null,
      "outputs": []
    },
    {
      "cell_type": "code",
      "source": [
        "plt.figure(figsize = (10,8))\n",
        "plt.plot(best_till_now_averaged)"
      ],
      "metadata": {
        "colab": {
          "base_uri": "https://localhost:8080/",
          "height": 695
        },
        "id": "58GKpxxz_nrP",
        "outputId": "89b83f7c-4cef-402b-ba79-97c2ef8b78fd"
      },
      "execution_count": null,
      "outputs": [
        {
          "output_type": "execute_result",
          "data": {
            "text/plain": [
              "[<matplotlib.lines.Line2D at 0x7f83a9547970>]"
            ]
          },
          "metadata": {},
          "execution_count": 72
        },
        {
          "output_type": "display_data",
          "data": {
            "text/plain": [
              "<Figure size 1000x800 with 1 Axes>"
            ],
            "image/png": "[encoded data removed]"
          },
          "metadata": {}
        }
      ]
    },
    {
      "cell_type": "code",
      "source": [
        "import pickle"
      ],
      "metadata": {
        "id": "NpTX2EuWmfMi"
      },
      "execution_count": null,
      "outputs": []
    },
    {
      "cell_type": "code",
      "source": [
        "file_path = open(\"Thompson_exp_reven.txt\",\"wb\")\n",
        "pickle.dump(best_till_now_averaged,file_path)"
      ],
      "metadata": {
        "id": "izBWy8uyg3At"
      },
      "execution_count": null,
      "outputs": []
    },
    {
      "cell_type": "code",
      "source": [
        "file_path = open(\"CILS_exp_reven.txt\",\"rb\")\n",
        "best_till_now_CILS = pickle.load(file_path)"
      ],
      "metadata": {
        "id": "VW7Rrm9whBtw"
      },
      "execution_count": null,
      "outputs": []
    },
    {
      "cell_type": "code",
      "source": [
        "best_till_now_averaged"
      ],
      "metadata": {
        "colab": {
          "base_uri": "https://localhost:8080/"
        },
        "id": "k6KIvCtnhw2Q",
        "outputId": "70500caf-fb14-4160-8efe-821c82e70e12"
      },
      "execution_count": null,
      "outputs": [
        {
          "output_type": "execute_result",
          "data": {
            "text/plain": [
              "array([71.388697  , 66.75095338, 63.03725972, 62.72561841, 62.72561841,\n",
              "       62.33487091, 61.79544061, 61.69363907, 61.69363907, 61.66182015,\n",
              "       61.66182015, 61.35282508, 61.35282508, 61.23009301, 61.23009301,\n",
              "       61.23009301, 60.98394196, 60.92718075, 60.92718075, 60.92718075,\n",
              "       60.91638056, 60.91638056, 60.91638056, 60.91638056, 60.91638056,\n",
              "       60.69151401, 60.69151401, 60.62740216, 60.62740216, 60.22354285,\n",
              "       60.22354285, 60.22354285, 60.22354285, 60.12862729, 60.12862729,\n",
              "       60.12862729, 59.66485711, 59.63610031, 59.63610031, 59.52393311,\n",
              "       59.52393311, 59.52393311, 59.52393311, 59.52393311, 59.52393311,\n",
              "       59.14276729, 59.14276729, 58.87603317, 58.87603317, 58.87603317,\n",
              "       58.87603317, 58.68773399, 58.68773399, 58.68773399, 58.68773399,\n",
              "       58.68773399, 58.57148217, 58.57148217, 58.57148217, 58.57148217,\n",
              "       58.57148217, 58.57148217, 58.57148217, 58.57148217, 58.57148217,\n",
              "       58.57148217, 58.57148217, 58.57148217, 58.57148217, 58.57148217,\n",
              "       58.14892106, 58.05807923, 58.05807923, 58.05807923, 58.05807923,\n",
              "       58.05807923, 58.05807923, 57.9741017 , 57.70916448, 57.70916448,\n",
              "       57.70916448, 57.70916448, 57.34656718, 57.34656718, 57.34656718,\n",
              "       57.34656718, 57.34656718, 57.22894184, 57.22894184, 57.22894184,\n",
              "       57.11309724, 57.11309724, 57.11309724, 57.00372518, 57.00372518,\n",
              "       57.00372518, 57.00372518, 57.00372518, 57.00372518, 57.00372518])"
            ]
          },
          "metadata": {},
          "execution_count": 75
        }
      ]
    },
    {
      "cell_type": "code",
      "source": [],
      "metadata": {
        "id": "77sO_MHfiIuh"
      },
      "execution_count": null,
      "outputs": []
    }
  ]
}