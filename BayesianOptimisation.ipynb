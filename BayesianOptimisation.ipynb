{
  "cells": [
    {
      "cell_type": "markdown",
      "metadata": {
        "id": "view-in-github",
        "colab_type": "text"
      },
      "source": [
        "<a href=\"https://colab.research.google.com/github/ParitoshP702/BO_vs_RL_Pricing/blob/main/BayesianOptimisation.ipynb\" target=\"_parent\"><img src=\"https://colab.research.google.com/assets/colab-badge.svg\" alt=\"Open In Colab\"/></a>"
      ]
    },
    {
      "cell_type": "code",
      "execution_count": null,
      "metadata": {
        "id": "Ruq_na6Oz5tE"
      },
      "outputs": [],
      "source": [
        "import numpy as np\n",
        "import math\n",
        "import random"
      ]
    },
    {
      "cell_type": "code",
      "execution_count": null,
      "metadata": {
        "id": "0gg-nxJPA7Ja"
      },
      "outputs": [],
      "source": [
        "import scipy\n",
        "from scipy.stats import norm"
      ]
    },
    {
      "cell_type": "code",
      "execution_count": null,
      "metadata": {
        "id": "ZlU-VnKcz3DV"
      },
      "outputs": [],
      "source": [
        "# true_coeff = np.array([-150,480,-165,22,-1])"
      ]
    },
    {
      "cell_type": "code",
      "execution_count": null,
      "metadata": {
        "id": "bJF6CkQa4a23"
      },
      "outputs": [],
      "source": [
        "import torch"
      ]
    },
    {
      "cell_type": "code",
      "execution_count": null,
      "metadata": {
        "colab": {
          "base_uri": "https://localhost:8080/"
        },
        "id": "OJvSaZnxGpAb",
        "outputId": "82cc53bb-e015-4054-802c-eee817963ba5"
      },
      "outputs": [
        {
          "output_type": "stream",
          "name": "stdout",
          "text": [
            "Looking in indexes: https://pypi.org/simple, https://us-python.pkg.dev/colab-wheels/public/simple/\n",
            "Collecting gpytorch\n",
            "  Downloading gpytorch-1.11-py3-none-any.whl (266 kB)\n",
            "\u001b[2K     \u001b[90m━━━━━━━━━━━━━━━━━━━━━━━━━━━━━━━━━━━━━━\u001b[0m \u001b[32m266.1/266.1 kB\u001b[0m \u001b[31m14.9 MB/s\u001b[0m eta \u001b[36m0:00:00\u001b[0m\n",
            "\u001b[?25hRequirement already satisfied: scikit-learn in /usr/local/lib/python3.10/dist-packages (from gpytorch) (1.2.2)\n",
            "Collecting linear-operator>=0.5.0 (from gpytorch)\n",
            "  Downloading linear_operator-0.5.0-py3-none-any.whl (172 kB)\n",
            "\u001b[2K     \u001b[90m━━━━━━━━━━━━━━━━━━━━━━━━━━━━━━━━━━━━━━\u001b[0m \u001b[32m173.0/173.0 kB\u001b[0m \u001b[31m19.7 MB/s\u001b[0m eta \u001b[36m0:00:00\u001b[0m\n",
            "\u001b[?25hRequirement already satisfied: torch>=1.11 in /usr/local/lib/python3.10/dist-packages (from linear-operator>=0.5.0->gpytorch) (2.0.1+cu118)\n",
            "Requirement already satisfied: scipy in /usr/local/lib/python3.10/dist-packages (from linear-operator>=0.5.0->gpytorch) (1.10.1)\n",
            "Collecting jaxtyping>=0.2.9 (from linear-operator>=0.5.0->gpytorch)\n",
            "  Downloading jaxtyping-0.2.20-py3-none-any.whl (24 kB)\n",
            "Collecting typeguard~=2.13.3 (from linear-operator>=0.5.0->gpytorch)\n",
            "  Downloading typeguard-2.13.3-py3-none-any.whl (17 kB)\n",
            "Requirement already satisfied: numpy>=1.17.3 in /usr/local/lib/python3.10/dist-packages (from scikit-learn->gpytorch) (1.22.4)\n",
            "Requirement already satisfied: joblib>=1.1.1 in /usr/local/lib/python3.10/dist-packages (from scikit-learn->gpytorch) (1.2.0)\n",
            "Requirement already satisfied: threadpoolctl>=2.0.0 in /usr/local/lib/python3.10/dist-packages (from scikit-learn->gpytorch) (3.1.0)\n",
            "Requirement already satisfied: typing-extensions>=3.7.4.1 in /usr/local/lib/python3.10/dist-packages (from jaxtyping>=0.2.9->linear-operator>=0.5.0->gpytorch) (4.5.0)\n",
            "Requirement already satisfied: filelock in /usr/local/lib/python3.10/dist-packages (from torch>=1.11->linear-operator>=0.5.0->gpytorch) (3.12.0)\n",
            "Requirement already satisfied: sympy in /usr/local/lib/python3.10/dist-packages (from torch>=1.11->linear-operator>=0.5.0->gpytorch) (1.11.1)\n",
            "Requirement already satisfied: networkx in /usr/local/lib/python3.10/dist-packages (from torch>=1.11->linear-operator>=0.5.0->gpytorch) (3.1)\n",
            "Requirement already satisfied: jinja2 in /usr/local/lib/python3.10/dist-packages (from torch>=1.11->linear-operator>=0.5.0->gpytorch) (3.1.2)\n",
            "Requirement already satisfied: triton==2.0.0 in /usr/local/lib/python3.10/dist-packages (from torch>=1.11->linear-operator>=0.5.0->gpytorch) (2.0.0)\n",
            "Requirement already satisfied: cmake in /usr/local/lib/python3.10/dist-packages (from triton==2.0.0->torch>=1.11->linear-operator>=0.5.0->gpytorch) (3.25.2)\n",
            "Requirement already satisfied: lit in /usr/local/lib/python3.10/dist-packages (from triton==2.0.0->torch>=1.11->linear-operator>=0.5.0->gpytorch) (16.0.5)\n",
            "Requirement already satisfied: MarkupSafe>=2.0 in /usr/local/lib/python3.10/dist-packages (from jinja2->torch>=1.11->linear-operator>=0.5.0->gpytorch) (2.1.2)\n",
            "Requirement already satisfied: mpmath>=0.19 in /usr/local/lib/python3.10/dist-packages (from sympy->torch>=1.11->linear-operator>=0.5.0->gpytorch) (1.3.0)\n",
            "Installing collected packages: typeguard, jaxtyping, linear-operator, gpytorch\n",
            "Successfully installed gpytorch-1.11 jaxtyping-0.2.20 linear-operator-0.5.0 typeguard-2.13.3\n"
          ]
        }
      ],
      "source": [
        "!pip install gpytorch\n",
        "import gpytorch"
      ]
    },
    {
      "cell_type": "code",
      "execution_count": null,
      "metadata": {
        "id": "iB4nC06PAwl1"
      },
      "outputs": [],
      "source": [
        "def func_revenue(price):\n",
        "\n",
        "    return 100*np.exp(-((price-5)**2)/20)"
      ]
    },
    {
      "cell_type": "code",
      "execution_count": null,
      "metadata": {
        "id": "QZ3lptpxGvfw"
      },
      "outputs": [],
      "source": [
        "import gpytorch"
      ]
    },
    {
      "cell_type": "code",
      "execution_count": null,
      "metadata": {
        "id": "s9zUDHkOG5dL"
      },
      "outputs": [],
      "source": [
        "# train_x = torch.rand(2)"
      ]
    },
    {
      "cell_type": "code",
      "execution_count": null,
      "metadata": {
        "id": "K-qQe4WEG_4W"
      },
      "outputs": [],
      "source": [
        "# train_x"
      ]
    },
    {
      "cell_type": "code",
      "execution_count": null,
      "metadata": {
        "id": "yFKvGd2dLpMj"
      },
      "outputs": [],
      "source": [
        "# train_y = []\n",
        "# for price in train_x.numpy():\n",
        "#   train_y.append(func_revenue(price))\n",
        "# train_y = np.array(train_y)\n",
        "# train_y = torch.tensor(train_y)"
      ]
    },
    {
      "cell_type": "code",
      "execution_count": null,
      "metadata": {
        "id": "JBGx4XY9M8JG"
      },
      "outputs": [],
      "source": [
        "# train_y"
      ]
    },
    {
      "cell_type": "code",
      "execution_count": null,
      "metadata": {
        "id": "7AhSS7wTHAdh"
      },
      "outputs": [],
      "source": [
        "# class ExactGPModel(gpytorch.models.ExactGP):\n",
        "#     def __init__(self, train_x, train_y, likelihood):\n",
        "#         super(ExactGPModel, self).__init__(train_x, train_y, likelihood)\n",
        "#         self.mean_module = gpytorch.means.ConstantMean()\n",
        "#         self.covar_module = gpytorch.kernels.ScaleKernel(gpytorch.kernels.RBFKernel())\n",
        "\n",
        "#     def forward(self, x):\n",
        "#         mean_x = self.mean_module(x)\n",
        "#         covar_x = self.covar_module(x)\n",
        "#         return gpytorch.distributions.MultivariateNormal(mean_x, covar_x)\n",
        "\n",
        "# # initialize likelihood and model\n",
        "# likelihood = gpytorch.likelihoods.GaussianLikelihood()\n",
        "# model = ExactGPModel(train_x, train_y, likelihood)"
      ]
    },
    {
      "cell_type": "code",
      "execution_count": null,
      "metadata": {
        "id": "2vICuOR1NfYW"
      },
      "outputs": [],
      "source": [
        "# likelihood = gpytorch.likelihoods.GaussianLikelihood()\n",
        "# model = ExactGPModel(train_x,train_y,likelihood)\n"
      ]
    },
    {
      "cell_type": "code",
      "execution_count": null,
      "metadata": {
        "id": "X9r6pKvbN59o"
      },
      "outputs": [],
      "source": [
        "# print(model)"
      ]
    },
    {
      "cell_type": "code",
      "execution_count": null,
      "metadata": {
        "id": "afbe819yIbQ3"
      },
      "outputs": [],
      "source": [
        "# def tune_hyperparameter(train_x,train_y):\n",
        "#       # print(train_x)\n",
        "#       # print(train_y)\n",
        "#       likelihood = gpytorch.likelihoods.GaussianLikelihood()\n",
        "#       model = ExactGPModel(train_x, train_y, likelihood)\n",
        "#       model.train()\n",
        "#       likelihood.train()\n",
        "\n",
        "#       optimizer = torch.optim.Adam(model.parameters(),lr = 0.1)\n",
        "\n",
        "#       mll = gpytorch.mlls.ExactMarginalLogLikelihood(likelihood,model)\n",
        "\n",
        "#       training_iter = 100\n",
        "\n",
        "#       for i in range(training_iter):\n",
        "#         ##zero greadients from previous iterations\n",
        "\n",
        "#         optimizer.zero_grad()\n",
        "#         ##output from model\n",
        "\n",
        "#         output = model(train_x)\n",
        "\n",
        "#         ##calculate loss and backprop gradients\n",
        "\n",
        "#         loss = -mll(output,train_y)\n",
        "#         # print(loss)\n",
        "\n",
        "#         loss.backward()\n",
        "\n",
        "#         optimizer.step()\n"
      ]
    },
    {
      "cell_type": "code",
      "execution_count": null,
      "metadata": {
        "id": "VLGBLKio5-dd"
      },
      "outputs": [],
      "source": [
        "# tune_hyperparameter(train_x,train_y)"
      ]
    },
    {
      "cell_type": "code",
      "execution_count": null,
      "metadata": {
        "id": "a0kj5w7gNmXb"
      },
      "outputs": [],
      "source": [
        "# likelihood\n"
      ]
    },
    {
      "cell_type": "code",
      "execution_count": null,
      "metadata": {
        "id": "348zm2q1OMVY"
      },
      "outputs": [],
      "source": [
        "# print(model)"
      ]
    },
    {
      "cell_type": "code",
      "execution_count": null,
      "metadata": {
        "id": "-srtRr-TOOo0"
      },
      "outputs": [],
      "source": [
        "# def acquisition(model,train_x,Xsamples):\n",
        "#   train_x = torch.tensor(train_x)\n",
        "#   Xsamples = torch.tensor(Xsamples)\n",
        "#   # print(Xsamples)\n",
        "#   model.double()\n",
        "#   yhat = model(train_x).mean.detach().numpy()\n",
        "#   # print(yhat)\n",
        "#   best = max(yhat)\n",
        "#   model.eval();\n",
        "#   likelihood.eval();\n",
        "#   with torch.no_grad():\n",
        "#     f_preds = model(Xsamples)\n",
        "#   mu = (f_preds.mean).detach().numpy()\n",
        "#   std = ((f_preds.variance).detach().numpy()) ** 0.5\n",
        "#   # print(mu)\n",
        "#   # print(std)\n",
        "#   probs = (mu-best)*norm.cdf((mu-best)/(std+1e-9)) + std*norm.pdf((mu-best)/(std+1e-9))\n",
        "#   return probs\n"
      ]
    },
    {
      "cell_type": "code",
      "execution_count": null,
      "metadata": {
        "id": "10G2uWshV8yo"
      },
      "outputs": [],
      "source": [
        "# def opt_acquisition(model,train_x):\n",
        "#   Xsamples = np.random.uniform(low = 0.3,high = 10,size = 10)\n",
        "#   scores = acquisition(model,train_x,Xsamples)\n",
        "#   ix = np.argmax(scores)\n",
        "#   # print(ix)\n",
        "#   return Xsamples[ix]"
      ]
    },
    {
      "cell_type": "code",
      "execution_count": null,
      "metadata": {
        "id": "EeidTNJ26pnJ"
      },
      "outputs": [],
      "source": [
        "# train_x = torch.rand(2)\n",
        "# train_y = []\n",
        "# for price in train_x.numpy():\n",
        "#   train_y.append(func_revenue(price))\n",
        "# train_y = np.array(train_y)\n",
        "# train_y = torch.tensor(train_y)"
      ]
    },
    {
      "cell_type": "code",
      "source": [
        "# train_x,train_y"
      ],
      "metadata": {
        "id": "E3TTBfcgVBiV"
      },
      "execution_count": null,
      "outputs": []
    },
    {
      "cell_type": "code",
      "execution_count": null,
      "metadata": {
        "id": "HwmKl9vbTGTy"
      },
      "outputs": [],
      "source": [
        " def BayesOpt():\n",
        "    epsilon_array = []\n",
        "    train_x = torch.rand(2)\n",
        "    train_y = []\n",
        "    for price in train_x.numpy():\n",
        "      train_y.append(func_revenue(price))\n",
        "    train_y = np.array(train_y)\n",
        "    train_y = torch.tensor(train_y)\n",
        "    class ExactGPModel(gpytorch.models.ExactGP):\n",
        "          def __init__(self, train_x, train_y, likelihood):\n",
        "              super(ExactGPModel, self).__init__(train_x, train_y, likelihood)\n",
        "              self.mean_module = gpytorch.means.ConstantMean()\n",
        "              self.covar_module = gpytorch.kernels.ScaleKernel(gpytorch.kernels.RBFKernel())\n",
        "\n",
        "          def forward(self, x):\n",
        "              mean_x = self.mean_module(x)\n",
        "              covar_x = self.covar_module(x)\n",
        "              return gpytorch.distributions.MultivariateNormal(mean_x, covar_x)\n",
        "    # initialize likelihood and model\n",
        "    likelihood = gpytorch.likelihoods.GaussianLikelihood()\n",
        "    model = ExactGPModel(train_x, train_y, likelihood)\n",
        "\n",
        "    def tune_hyperparameter(train_x,train_y):\n",
        "          # print(train_x)\n",
        "          # print(train_y)\n",
        "          likelihood = gpytorch.likelihoods.GaussianLikelihood()\n",
        "          model = ExactGPModel(train_x, train_y, likelihood)\n",
        "          model.train()\n",
        "          likelihood.train()\n",
        "\n",
        "          optimizer = torch.optim.Adam(model.parameters(),lr = 0.1)\n",
        "\n",
        "          mll = gpytorch.mlls.ExactMarginalLogLikelihood(likelihood,model)\n",
        "\n",
        "          training_iter = 100\n",
        "\n",
        "          for i in range(training_iter):\n",
        "                ##zero greadients from previous iterations\n",
        "\n",
        "                optimizer.zero_grad()\n",
        "                ##output from model\n",
        "\n",
        "                output = model(train_x)\n",
        "\n",
        "                ##calculate loss and backprop gradients\n",
        "\n",
        "                loss = -mll(output,train_y)\n",
        "                # print(loss)\n",
        "\n",
        "                loss.backward()\n",
        "\n",
        "                optimizer.step()\n",
        "\n",
        "    tune_hyperparameter(train_x,train_y)\n",
        "\n",
        "    def acquisition(model,train_x,Xsamples):\n",
        "          train_x = torch.tensor(train_x)\n",
        "          Xsamples = torch.tensor(Xsamples)\n",
        "          # print(Xsamples)\n",
        "          model.double()\n",
        "          yhat = model(train_x).mean.detach().numpy()\n",
        "          # print(yhat)\n",
        "          best = max(yhat)\n",
        "          model.eval();\n",
        "          likelihood.eval();\n",
        "          with torch.no_grad():\n",
        "            f_preds = model(Xsamples)\n",
        "          mu = (f_preds.mean).detach().numpy()\n",
        "          std = ((f_preds.variance).detach().numpy()) ** 0.5\n",
        "          # print(mu)\n",
        "          # print(std)\n",
        "          probs = (mu-best)*norm.cdf((mu-best)/(std+1e-9)) + std*norm.pdf((mu-best)/(std+1e-9))\n",
        "          return probs\n",
        "    def opt_acquisition(model,train_x):\n",
        "          Xsamples = np.random.uniform(low = 0,high = 100,size = 10)\n",
        "          scores = acquisition(model,train_x,Xsamples)\n",
        "          ix = np.argmax(scores)\n",
        "          # print(ix)\n",
        "          return Xsamples[ix]\n",
        "\n",
        "\n",
        "\n",
        "    train_x = train_x.numpy()\n",
        "    train_y = train_y.numpy()\n",
        "    reven_array = []\n",
        "    for i in range(100):\n",
        "\n",
        "      point = opt_acquisition(model,train_x)\n",
        "      true_val = func_revenue(point) + np.random.normal(0,3)\n",
        "      # print(true_val)\n",
        "      # print(point)\n",
        "      # train_x = train_x.numpy()\n",
        "      # train_y = train_y.numpy()\n",
        "      train_x = np.hstack((train_x,[point]))\n",
        "      train_y = np.hstack((train_y,[true_val]))\n",
        "      reven_array = train_y[2:]\n",
        "      epsilon =np.max([0,np.min(100 - np.array(reven_array))])\n",
        "      epsilon_array.append(epsilon)\n",
        "      # print(train_x)\n",
        "      # print(train_y)\n",
        "      tune_hyperparameter(torch.tensor(train_x),torch.tensor(train_y))\n",
        "\n",
        "    return np.array(epsilon_array),reven_array"
      ]
    },
    {
      "cell_type": "code",
      "source": [],
      "metadata": {
        "id": "3RlQdH_SVAnA"
      },
      "execution_count": null,
      "outputs": []
    },
    {
      "cell_type": "code",
      "execution_count": null,
      "metadata": {
        "id": "ir-uGADOEjcH"
      },
      "outputs": [],
      "source": [
        "from tqdm import tqdm"
      ]
    },
    {
      "cell_type": "code",
      "source": [
        "# best_till_now"
      ],
      "metadata": {
        "id": "m042jWTXUZZ0"
      },
      "execution_count": null,
      "outputs": []
    },
    {
      "cell_type": "code",
      "execution_count": null,
      "metadata": {
        "colab": {
          "base_uri": "https://localhost:8080/"
        },
        "id": "y1CmQcrEwK-V",
        "outputId": "601ceffd-5960-4519-ac61-14c0a54b2bc2"
      },
      "outputs": [
        {
          "output_type": "stream",
          "name": "stderr",
          "text": [
            "100%|██████████| 10/10 [04:03<00:00, 24.30s/it]\n"
          ]
        }
      ],
      "source": [
        "best_till_now = []\n",
        "reven_array_list = []\n",
        "for i in tqdm(range(10)):\n",
        "  a,b = BayesOpt()\n",
        "  best_till_now.append(a)\n",
        "  reven_array_list.append(b)\n",
        "# np.mean(best_till_now)"
      ]
    },
    {
      "cell_type": "code",
      "execution_count": null,
      "metadata": {
        "colab": {
          "base_uri": "https://localhost:8080/",
          "height": 676
        },
        "id": "JDfUN-RFa99R",
        "outputId": "eca26aaf-ae03-4be1-a155-831da5ee0478"
      },
      "outputs": [
        {
          "output_type": "display_data",
          "data": {
            "text/plain": [
              "<Figure size 1000x800 with 1 Axes>"
            ],
            "image/png": "[encoded data removed]"
          },
          "metadata": {}
        }
      ],
      "source": [
        "import matplotlib.pyplot as plt\n",
        "plt.figure(figsize = (10,8))\n",
        "for i in range(10):\n",
        "  plt.plot(best_till_now[i])"
      ]
    },
    {
      "cell_type": "code",
      "execution_count": null,
      "metadata": {
        "id": "YVDJCJBZAC4c"
      },
      "outputs": [],
      "source": [
        "best_till_now_averaged = np.mean(best_till_now,axis = 0)"
      ]
    },
    {
      "cell_type": "code",
      "execution_count": null,
      "metadata": {
        "colab": {
          "base_uri": "https://localhost:8080/"
        },
        "id": "QKikFWopmSSY",
        "outputId": "73c79dd4-3e3c-4433-c87e-b99313269c3e"
      },
      "outputs": [
        {
          "output_type": "execute_result",
          "data": {
            "text/plain": [
              "array([5.71812647e+01, 3.69421216e+01, 3.04625299e+01, 1.36126836e+01,\n",
              "       1.01395866e+01, 1.01395866e+01, 5.78692760e+00, 5.78692760e+00,\n",
              "       5.78692760e+00, 2.09437559e+00, 2.09437559e+00, 2.09437559e+00,\n",
              "       2.09437559e+00, 1.44886083e+00, 1.42388643e+00, 1.42388643e+00,\n",
              "       1.42388643e+00, 1.42388643e+00, 1.24204690e+00, 1.05415957e+00,\n",
              "       1.05415957e+00, 1.05415957e+00, 1.05415957e+00, 1.05415957e+00,\n",
              "       1.05415957e+00, 1.05415957e+00, 1.05415957e+00, 1.05415957e+00,\n",
              "       1.05415957e+00, 1.05415957e+00, 1.05415957e+00, 1.05415957e+00,\n",
              "       1.05415957e+00, 1.05343227e+00, 1.05343227e+00, 9.16597672e-01,\n",
              "       6.56866840e-01, 6.56866840e-01, 6.56866840e-01, 6.56866840e-01,\n",
              "       6.56866840e-01, 6.56866840e-01, 6.07691889e-01, 6.07691889e-01,\n",
              "       6.07691889e-01, 6.07691889e-01, 5.52451622e-01, 5.52451622e-01,\n",
              "       5.10556901e-01, 5.10556901e-01, 4.73091384e-01, 4.73091384e-01,\n",
              "       4.73091384e-01, 4.73091384e-01, 4.73091384e-01, 4.73091384e-01,\n",
              "       3.42667874e-01, 3.42667874e-01, 3.42667874e-01, 3.42667874e-01,\n",
              "       3.42667874e-01, 3.42667874e-01, 2.22322040e-01, 2.22322040e-01,\n",
              "       2.22322040e-01, 2.22322040e-01, 2.22322040e-01, 2.22322040e-01,\n",
              "       2.22322040e-01, 2.22322040e-01, 2.22322040e-01, 8.92334657e-03,\n",
              "       8.92334657e-03, 8.92334657e-03, 8.92334657e-03, 8.92334657e-03,\n",
              "       8.92334657e-03, 8.92334657e-03, 8.92334657e-03, 8.92334657e-03,\n",
              "       8.92334657e-03, 8.92334657e-03, 8.92334657e-03, 8.92334657e-03,\n",
              "       8.92334657e-03, 8.92334657e-03, 8.92334657e-03, 8.92334657e-03,\n",
              "       8.92334657e-03, 8.92334657e-03, 8.92334657e-03, 8.92334657e-03,\n",
              "       8.92334657e-03, 8.92334657e-03, 0.00000000e+00, 0.00000000e+00,\n",
              "       0.00000000e+00, 0.00000000e+00, 0.00000000e+00, 0.00000000e+00])"
            ]
          },
          "metadata": {},
          "execution_count": 30
        }
      ],
      "source": [
        "best_till_now_averaged"
      ]
    },
    {
      "cell_type": "code",
      "execution_count": null,
      "metadata": {
        "colab": {
          "base_uri": "https://localhost:8080/",
          "height": 698
        },
        "id": "tZZaFLyuAHj2",
        "outputId": "82e54ebe-2f2b-40d1-f4e4-ffb1d39dc6f5"
      },
      "outputs": [
        {
          "output_type": "execute_result",
          "data": {
            "text/plain": [
              "[<matplotlib.lines.Line2D at 0x7fb7f9dfabc0>]"
            ]
          },
          "metadata": {},
          "execution_count": 31
        },
        {
          "output_type": "display_data",
          "data": {
            "text/plain": [
              "<Figure size 1000x800 with 1 Axes>"
            ],
            "image/png": "[encoded data removed]"
          },
          "metadata": {}
        }
      ],
      "source": [
        "plt.figure(figsize = (10,8))\n",
        "plt.plot(best_till_now_averaged)"
      ]
    },
    {
      "cell_type": "code",
      "execution_count": null,
      "metadata": {
        "id": "D94vuPuHuVIu"
      },
      "outputs": [],
      "source": [
        "import pickle"
      ]
    },
    {
      "cell_type": "code",
      "source": [
        "file_path = open(\"BO_exp_reven.txt\",\"wb\")\n",
        "pickle.dump(best_till_now_averaged,file_path)"
      ],
      "metadata": {
        "id": "VfDdnuycTS1p"
      },
      "execution_count": null,
      "outputs": []
    },
    {
      "cell_type": "code",
      "execution_count": null,
      "metadata": {
        "id": "GsaljLfsAOP_"
      },
      "outputs": [],
      "source": [
        "def update_mean(rev,p_ar):\n",
        "    sum = 0\n",
        "    for i in range(len(rev)):\n",
        "        price = p_ar[i]\n",
        "        p = p_vector(price)\n",
        "        sum += rev[i]*p/100\n",
        "    return sum\n"
      ]
    },
    {
      "cell_type": "code",
      "execution_count": null,
      "metadata": {
        "id": "gBLHCkr8__hH"
      },
      "outputs": [],
      "source": [
        "def update_mat(p_ar):\n",
        "    sum = 0\n",
        "    for i in range(len(p_ar)):\n",
        "        price = p_ar[i]\n",
        "        p = p_vector(price)\n",
        "        sum += (p@np.transpose(p))/100\n",
        "    return sum"
      ]
    },
    {
      "cell_type": "code",
      "execution_count": null,
      "metadata": {
        "id": "_r5cM896AAFT"
      },
      "outputs": [],
      "source": [
        "b1 = 0\n",
        "b2 = 0.5-(3/28)**0.5\n",
        "b3 = 0.5\n",
        "b4 = 0.5+(3/28)**0.5\n",
        "b5 = 1\n",
        "barycentric_spanner = [b1,b2,b3,b4,b5]"
      ]
    },
    {
      "cell_type": "code",
      "execution_count": null,
      "metadata": {
        "id": "ptDyDpleut3p"
      },
      "outputs": [],
      "source": [
        "import scipy\n",
        "from scipy.optimize import minimize"
      ]
    },
    {
      "cell_type": "code",
      "execution_count": null,
      "metadata": {
        "id": "_VSE838MuaWH"
      },
      "outputs": [],
      "source": [
        "def Thompson():\n",
        "    epsilon_array = []\n",
        "    def p_vector(p):\n",
        "        p_vec = np.array([1,p,p**2,p**3,p**4])\n",
        "        return p_vec.reshape(len(p_vec),1)\n",
        "\n",
        "    def g_fun(p,*args):\n",
        "          p_vec = np.array([1,p,p**2,p**3,p**4])\n",
        "          coeff_array = args\n",
        "          return -np.sum(coeff_array*p_vec)\n",
        "    var_cov_inv = np.zeros((5,5))\n",
        "    for b in barycentric_spanner:\n",
        "        b_vec = p_vector(b)\n",
        "        var_cov_inv += b_vec@np.transpose(b_vec)\n",
        "\n",
        "    var_cov = np.linalg.inv(var_cov_inv)\n",
        "    mu_ = np.array([0,0,0,0,0])\n",
        "    pl = 0.3\n",
        "    ph = 10\n",
        "    w = np.random.multivariate_normal(np.array([0,0,0,0,0]),var_cov)\n",
        "    price_estimate = minimize(g_fun,x0 = np.array([random.random()]),args = (w),bounds = [(pl,ph)])[\"x\"][0]\n",
        "    p_array = []\n",
        "    p_curr = p_vector(price_estimate)\n",
        "    p_array.append(price_estimate)\n",
        "    reven_array = []\n",
        "    def update_mat(p_ar):\n",
        "        sum = 0\n",
        "        for i in range(len(p_ar)):\n",
        "            price = p_ar[i]\n",
        "            p = p_vector(price)\n",
        "            sum += (p@np.transpose(p))/100\n",
        "        return sum\n",
        "\n",
        "    for i in tqdm(range(100)):\n",
        "        rev_curr = (true_coeff.reshape(1,5)@p_curr)[0][0]+np.random.normal(0,10)\n",
        "        reven_array.append(rev_curr)\n",
        "        var_copy = var_cov\n",
        "        mu_copy = mu_\n",
        "        var_cov = np.linalg.inv(np.linalg.inv(var_copy) + update_mat(p_array))\n",
        "        # np.linalg.eig(var_cov)\n",
        "        min_ev = np.min(np.linalg.eig(var_cov)[0])\n",
        "        if min_ev <= 0:\n",
        "            var_cov += np.diag(np.array([1e-5,1e-5,1e-5,1e-5,1e-5]))\n",
        "        mu_ = var_cov@(np.linalg.inv(var_copy)@mu_copy.reshape(5,1) + update_mean(reven_array,p_array))\n",
        "    #     mu_ = var_cov@( rev_curr*p_curr/100)\n",
        "        mu_ = mu_.reshape(5,)\n",
        "        w_sample = np.random.multivariate_normal(mu_,var_cov)\n",
        "        price_estimate = minimize(g_fun,x0 = np.array([random.random()]),args = (w_sample),bounds = [(pl,ph)])[\"x\"][0]\n",
        "        p_curr = p_vector(price_estimate)\n",
        "        p_array.append(price_estimate)\n",
        "        epsilon =np.max([0,np.min(323.60 - np.array(reven_array))])\n",
        "        epsilon_array.append(epsilon)\n",
        "    return np.array(epsilon_array)\n"
      ]
    },
    {
      "cell_type": "code",
      "execution_count": null,
      "metadata": {
        "colab": {
          "base_uri": "https://localhost:8080/"
        },
        "id": "ekOvDZmquglX",
        "outputId": "239b4067-5cd1-4a2e-b138-a77d3b6a8f11"
      },
      "outputs": [
        {
          "name": "stderr",
          "output_type": "stream",
          "text": [
            "<ipython-input-103-97ec27d92017>:8: VisibleDeprecationWarning: Creating an ndarray from ragged nested sequences (which is a list-or-tuple of lists-or-tuples-or ndarrays with different lengths or shapes) is deprecated. If you meant to do this, you must specify 'dtype=object' when creating the ndarray.\n",
            "  p_vec = np.array([1,p,p**2,p**3,p**4])\n",
            "  0%|          | 0/100 [00:00<?, ?it/s]<ipython-input-103-97ec27d92017>:47: RuntimeWarning: covariance is not positive-semidefinite.\n",
            "  w_sample = np.random.multivariate_normal(mu_,var_cov)\n",
            "100%|██████████| 100/100 [00:00<00:00, 178.03it/s]\n",
            "100%|██████████| 100/100 [00:00<00:00, 382.67it/s]\n",
            "100%|██████████| 100/100 [00:00<00:00, 352.03it/s]\n",
            "100%|██████████| 100/100 [00:00<00:00, 382.05it/s]\n",
            "100%|██████████| 100/100 [00:00<00:00, 356.95it/s]\n",
            "100%|██████████| 100/100 [00:00<00:00, 395.65it/s]\n",
            "100%|██████████| 100/100 [00:00<00:00, 283.86it/s]\n",
            "100%|██████████| 100/100 [00:00<00:00, 348.06it/s]\n",
            "100%|██████████| 100/100 [00:00<00:00, 353.49it/s]\n",
            "100%|██████████| 100/100 [00:00<00:00, 378.29it/s]\n"
          ]
        }
      ],
      "source": [
        "best_till_now_thmp = []\n",
        "for i in range(10):\n",
        "  best_till_now_thmp.append(Thompson())"
      ]
    },
    {
      "cell_type": "code",
      "execution_count": null,
      "metadata": {
        "id": "QHPEuncRumuv"
      },
      "outputs": [],
      "source": [
        "best_till_thmp_averaged = np.mean(best_till_now_thmp,axis = 0)\n"
      ]
    },
    {
      "cell_type": "code",
      "execution_count": null,
      "metadata": {
        "id": "eCcaM5N0wKSz"
      },
      "outputs": [],
      "source": []
    },
    {
      "cell_type": "code",
      "execution_count": null,
      "metadata": {
        "colab": {
          "base_uri": "https://localhost:8080/",
          "height": 735
        },
        "id": "nniTiXKcu7El",
        "outputId": "34cce607-4995-45c7-f8a6-b3ae4610f7ae"
      },
      "outputs": [
        {
          "data": {
            "text/plain": [
              "<matplotlib.legend.Legend at 0x7ff5d72868f0>"
            ]
          },
          "execution_count": 112,
          "metadata": {},
          "output_type": "execute_result"
        },
        {
          "data": {
            "image/png": "[encoded data removed]",
            "text/plain": [
              "<Figure size 1000x800 with 1 Axes>"
            ]
          },
          "metadata": {},
          "output_type": "display_data"
        }
      ],
      "source": [
        "plt.figure(figsize = (10,8))\n",
        "plt.plot(best_till_now_averaged,label = \"BO\")\n",
        "plt.plot(best_till_thmp_averaged,label = \"Thompson Sampling\")\n",
        "plt.title(\"y = -x^4 + 22*x^3-165*x^2 + 480*x- 150 \")\n",
        "plt.ylabel(\"Best till now\")\n",
        "plt.xlabel(\"Budget\")\n",
        "plt.legend()\n",
        "plt.sav"
      ]
    },
    {
      "cell_type": "code",
      "execution_count": null,
      "metadata": {
        "id": "lbmuvjBou76v"
      },
      "outputs": [],
      "source": []
    }
  ],
  "metadata": {
    "colab": {
      "provenance": [],
      "include_colab_link": true
    },
    "kernelspec": {
      "display_name": "Python 3",
      "name": "python3"
    },
    "language_info": {
      "name": "python"
    }
  },
  "nbformat": 4,
  "nbformat_minor": 0
}